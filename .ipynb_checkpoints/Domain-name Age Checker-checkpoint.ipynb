{
 "cells": [
  {
   "cell_type": "markdown",
   "metadata": {},
   "source": [
    "# Generate database of domainname's age and expiration\n",
    "As a part of DNSQeuryDB. (To be integrated soon)"
   ]
  },
  {
   "cell_type": "code",
   "execution_count": 20,
   "metadata": {},
   "outputs": [
    {
     "name": "stdout",
     "output_type": "stream",
     "text": [
      "google.com\n",
      "facebook.com\n",
      "wikipedia.org\n",
      "yahoo.com\n",
      "Socket Error: [Errno 54] Connection reset by peer\n"
     ]
    },
    {
     "ename": "TypeError",
     "evalue": "'datetime.datetime' object is not subscriptable",
     "output_type": "error",
     "traceback": [
      "\u001b[0;31m---------------------------------------------------------------------------\u001b[0m",
      "\u001b[0;31mTypeError\u001b[0m                                 Traceback (most recent call last)",
      "\u001b[0;32m<ipython-input-20-7b576abf0e5b>\u001b[0m in \u001b[0;36m<module>\u001b[0;34m()\u001b[0m\n\u001b[1;32m     23\u001b[0m                 \u001b[0;32melse\u001b[0m\u001b[0;34m:\u001b[0m\u001b[0;34m\u001b[0m\u001b[0m\n\u001b[1;32m     24\u001b[0m                     \u001b[0mexp\u001b[0m \u001b[0;34m=\u001b[0m \u001b[0mdatetime\u001b[0m\u001b[0;34m.\u001b[0m\u001b[0mdatetime\u001b[0m\u001b[0;34m.\u001b[0m\u001b[0mnow\u001b[0m\u001b[0;34m(\u001b[0m\u001b[0;34m)\u001b[0m \u001b[0;34m-\u001b[0m \u001b[0mresult\u001b[0m\u001b[0;34m.\u001b[0m\u001b[0mexpiration_date\u001b[0m\u001b[0;34m[\u001b[0m\u001b[0;36m0\u001b[0m\u001b[0;34m]\u001b[0m\u001b[0;34m\u001b[0m\u001b[0m\n\u001b[0;32m---> 25\u001b[0;31m                 \u001b[0mwriter\u001b[0m\u001b[0;34m.\u001b[0m\u001b[0mwriterow\u001b[0m\u001b[0;34m(\u001b[0m\u001b[0;34m[\u001b[0m\u001b[0mdomain\u001b[0m\u001b[0;34m,\u001b[0m \u001b[0mresult\u001b[0m\u001b[0;34m.\u001b[0m\u001b[0mcreation_date\u001b[0m\u001b[0;34m[\u001b[0m\u001b[0;36m0\u001b[0m\u001b[0;34m]\u001b[0m\u001b[0;34m,\u001b[0m \u001b[0;34m(\u001b[0m\u001b[0ma\u001b[0m\u001b[0;34m)\u001b[0m\u001b[0;34m/\u001b[0m\u001b[0mdatetime\u001b[0m\u001b[0;34m.\u001b[0m\u001b[0mtimedelta\u001b[0m\u001b[0;34m(\u001b[0m\u001b[0mminutes\u001b[0m \u001b[0;34m=\u001b[0m \u001b[0;36m1\u001b[0m\u001b[0;34m)\u001b[0m\u001b[0;34m,\u001b[0m \u001b[0;34m(\u001b[0m\u001b[0ma\u001b[0m\u001b[0;34m)\u001b[0m\u001b[0;34m/\u001b[0m\u001b[0mdatetime\u001b[0m\u001b[0;34m.\u001b[0m\u001b[0mtimedelta\u001b[0m\u001b[0;34m(\u001b[0m\u001b[0mdays\u001b[0m \u001b[0;34m=\u001b[0m \u001b[0;36m1\u001b[0m\u001b[0;34m)\u001b[0m\u001b[0;34m,\u001b[0m\u001b[0mexp\u001b[0m\u001b[0;34m]\u001b[0m\u001b[0;34m)\u001b[0m\u001b[0;34m\u001b[0m\u001b[0m\n\u001b[0m\u001b[1;32m     26\u001b[0m             \u001b[0mdomain\u001b[0m \u001b[0;34m=\u001b[0m \u001b[0mfr\u001b[0m\u001b[0;34m.\u001b[0m\u001b[0mreadline\u001b[0m\u001b[0;34m(\u001b[0m\u001b[0;34m)\u001b[0m\u001b[0;34m\u001b[0m\u001b[0m\n",
      "\u001b[0;31mTypeError\u001b[0m: 'datetime.datetime' object is not subscriptable"
     ]
    }
   ],
   "source": [
    "import whois\n",
    "import datetime\n",
    "import csv\n",
    "import re\n",
    "\n",
    "with open(\"top-1m.csv\", 'r+') as fr:\n",
    "    with open('DomainAge.csv', 'w+') as fw:\n",
    "        writer = csv.writer(fw, delimiter = ',', quotechar='|', quoting=csv.QUOTE_MINIMAL)\n",
    "        writer.writerow(['Domain Name', 'Creation date', 'Active time (minutes)','Active time (days)','Expiration date' ])\n",
    "        readCSV = csv.reader(fr, delimiter=',')\n",
    "        for line in readCSV:\n",
    "#             temp = re.findall(r',([\\w\\.]+)', domain)\n",
    "            domain = line[1]\n",
    "            print(domain)\n",
    "            result = whois.whois(domain)\n",
    "            if (result != None and result.creation_date != None and result.expiration_date != None):\n",
    "                if (isinstance(result.creation_date, datetime.datetime)):\n",
    "                    a = datetime.datetime.now() - result.creation_date\n",
    "                    crt = result.creation_date\n",
    "                else:\n",
    "                    a = datetime.datetime.now() - result.creation_date[0]\n",
    "                    crt = result.creation_date[0]\n",
    "                if (isinstance(result.expiration_date, datetime.datetime)):\n",
    "                    exp = datetime.datetime.now() - result.expiration_date\n",
    "                else:\n",
    "                    exp = datetime.datetime.now() - result.expiration_date[0]\n",
    "                writer.writerow([domain, crt, (a)/datetime.timedelta(minutes = 1), (a)/datetime.timedelta(days = 1),exp])\n",
    "            domain = fr.readline()\n"
   ]
  },
  {
   "cell_type": "markdown",
   "metadata": {},
   "source": [
    "## Rough / Experimentation"
   ]
  },
  {
   "cell_type": "markdown",
   "metadata": {},
   "source": [
    "w = whois.whois('google.com')\n",
    "print(w.expiration_date[0])\n",
    "print(w.creation_date[0])"
   ]
  },
  {
   "cell_type": "code",
   "execution_count": null,
   "metadata": {},
   "outputs": [],
   "source": [
    "print(w)\n",
    "import json\n",
    "with open(\"newfile.txt\", 'w+') as outfile:\n",
    "    json.dump(w, outfile)"
   ]
  },
  {
   "cell_type": "code",
   "execution_count": null,
   "metadata": {},
   "outputs": [],
   "source": [
    "import datetime\n",
    "print(w.expiration_date.seconds)"
   ]
  },
  {
   "cell_type": "code",
   "execution_count": null,
   "metadata": {
    "scrolled": true
   },
   "outputs": [],
   "source": [
    "dir(w)"
   ]
  },
  {
   "cell_type": "code",
   "execution_count": null,
   "metadata": {},
   "outputs": [],
   "source": [
    "a = w.items()\n",
    "for key, value in w.items():\n",
    "    print (key, value)\n",
    "    "
   ]
  },
  {
   "cell_type": "code",
   "execution_count": null,
   "metadata": {},
   "outputs": [],
   "source": [
    "'anks\\n ush'.decode(\"UTF-8\")"
   ]
  },
  {
   "cell_type": "code",
   "execution_count": 16,
   "metadata": {},
   "outputs": [],
   "source": [
    "result = whois.whois('google.com')"
   ]
  },
  {
   "cell_type": "code",
   "execution_count": 17,
   "metadata": {},
   "outputs": [
    {
     "name": "stdout",
     "output_type": "stream",
     "text": [
      "   Domain Name: GOOGLE.COM\r\n",
      "   Registry Domain ID: 2138514_DOMAIN_COM-VRSN\r\n",
      "   Registrar WHOIS Server: whois.markmonitor.com\r\n",
      "   Registrar URL: http://www.markmonitor.com\r\n",
      "   Updated Date: 2011-07-20T16:55:31Z\r\n",
      "   Creation Date: 1997-09-15T04:00:00Z\r\n",
      "   Registry Expiry Date: 2020-09-14T04:00:00Z\r\n",
      "   Registrar: MarkMonitor Inc.\r\n",
      "   Registrar IANA ID: 292\r\n",
      "   Registrar Abuse Contact Email: abusecomplaints@markmonitor.com\r\n",
      "   Registrar Abuse Contact Phone: +1.2083895740\r\n",
      "   Domain Status: clientDeleteProhibited https://icann.org/epp#clientDeleteProhibited\r\n",
      "   Domain Status: clientTransferProhibited https://icann.org/epp#clientTransferProhibited\r\n",
      "   Domain Status: clientUpdateProhibited https://icann.org/epp#clientUpdateProhibited\r\n",
      "   Domain Status: serverDeleteProhibited https://icann.org/epp#serverDeleteProhibited\r\n",
      "   Domain Status: serverTransferProhibited https://icann.org/epp#serverTransferProhibited\r\n",
      "   Domain Status: serverUpdateProhibited https://icann.org/epp#serverUpdateProhibited\r\n",
      "   Name Server: NS1.GOOGLE.COM\r\n",
      "   Name Server: NS2.GOOGLE.COM\r\n",
      "   Name Server: NS3.GOOGLE.COM\r\n",
      "   Name Server: NS4.GOOGLE.COM\r\n",
      "   DNSSEC: unsigned\r\n",
      "   URL of the ICANN Whois Inaccuracy Complaint Form: https://www.icann.org/wicf/\r\n",
      ">>> Last update of whois database: 2018-01-29T16:41:02Z <<<\r\n",
      "\r\n",
      "For more information on Whois status codes, please visit https://icann.org/epp\r\n",
      "\r\n",
      "NOTICE: The expiration date displayed in this record is the date the\r\n",
      "registrar's sponsorship of the domain name registration in the registry is\r\n",
      "currently set to expire. This date does not necessarily reflect the expiration\r\n",
      "date of the domain name registrant's agreement with the sponsoring\r\n",
      "registrar.  Users may consult the sponsoring registrar's Whois database to\r\n",
      "view the registrar's reported date of expiration for this registration.\r\n",
      "\r\n",
      "TERMS OF USE: You are not authorized to access or query our Whois\r\n",
      "database through the use of electronic processes that are high-volume and\r\n",
      "automated except as reasonably necessary to register domain names or\r\n",
      "modify existing registrations; the Data in VeriSign Global Registry\r\n",
      "Services' (\"VeriSign\") Whois database is provided by VeriSign for\r\n",
      "information purposes only, and to assist persons in obtaining information\r\n",
      "about or related to a domain name registration record. VeriSign does not\r\n",
      "guarantee its accuracy. By submitting a Whois query, you agree to abide\r\n",
      "by the following terms of use: You agree that you may use this Data only\r\n",
      "for lawful purposes and that under no circumstances will you use this Data\r\n",
      "to: (1) allow, enable, or otherwise support the transmission of mass\r\n",
      "unsolicited, commercial advertising or solicitations via e-mail, telephone,\r\n",
      "or facsimile; or (2) enable high volume, automated, electronic processes\r\n",
      "that apply to VeriSign (or its computer systems). The compilation,\r\n",
      "repackaging, dissemination or other use of this Data is expressly\r\n",
      "prohibited without the prior written consent of VeriSign. You agree not to\r\n",
      "use electronic processes that are automated and high-volume to access or\r\n",
      "query the Whois database except as reasonably necessary to register\r\n",
      "domain names or modify existing registrations. VeriSign reserves the right\r\n",
      "to restrict your access to the Whois database in its sole discretion to ensure\r\n",
      "operational stability.  VeriSign may restrict or terminate your access to the\r\n",
      "Whois database for failure to abide by these terms of use. VeriSign\r\n",
      "reserves the right to modify these terms at any time.\r\n",
      "\r\n",
      "The Registry database contains ONLY .COM, .NET, .EDU domains and\r\n",
      "Registrars.\r\n",
      "Domain Name: google.com\n",
      "Registry Domain ID: 2138514_DOMAIN_COM-VRSN\n",
      "Registrar WHOIS Server: whois.markmonitor.com\n",
      "Registrar URL: http://www.markmonitor.com\n",
      "Updated Date: 2017-09-07T08:50:36-0700\n",
      "Creation Date: 1997-09-15T00:00:00-0700\n",
      "Registrar Registration Expiration Date: 2020-09-13T21:00:00-0700\n",
      "Registrar: MarkMonitor, Inc.\n",
      "Registrar IANA ID: 292\n",
      "Registrar Abuse Contact Email: abusecomplaints@markmonitor.com\n",
      "Registrar Abuse Contact Phone: +1.2083895740\n",
      "Domain Status: clientUpdateProhibited (https://www.icann.org/epp#clientUpdateProhibited)\n",
      "Domain Status: clientTransferProhibited (https://www.icann.org/epp#clientTransferProhibited)\n",
      "Domain Status: clientDeleteProhibited (https://www.icann.org/epp#clientDeleteProhibited)\n",
      "Domain Status: serverUpdateProhibited (https://www.icann.org/epp#serverUpdateProhibited)\n",
      "Domain Status: serverTransferProhibited (https://www.icann.org/epp#serverTransferProhibited)\n",
      "Domain Status: serverDeleteProhibited (https://www.icann.org/epp#serverDeleteProhibited)\n",
      "Registry Registrant ID: \n",
      "Registrant Name: DNS Admin\n",
      "Registrant Organization: Google Inc.\n",
      "Registrant Street: 1600 Amphitheatre Parkway, \n",
      "Registrant City: Mountain View\n",
      "Registrant State/Province: CA\n",
      "Registrant Postal Code: 94043\n",
      "Registrant Country: US\n",
      "Registrant Phone: +1.6502530000\n",
      "Registrant Phone Ext: \n",
      "Registrant Fax: +1.6502530001\n",
      "Registrant Fax Ext: \n",
      "Registrant Email: dns-admin@google.com\n",
      "Registry Admin ID: \n",
      "Admin Name: DNS Admin\n",
      "Admin Organization: Google Inc.\n",
      "Admin Street: 1600 Amphitheatre Parkway, \n",
      "Admin City: Mountain View\n",
      "Admin State/Province: CA\n",
      "Admin Postal Code: 94043\n",
      "Admin Country: US\n",
      "Admin Phone: +1.6502530000\n",
      "Admin Phone Ext: \n",
      "Admin Fax: +1.6502530001\n",
      "Admin Fax Ext: \n",
      "Admin Email: dns-admin@google.com\n",
      "Registry Tech ID: \n",
      "Tech Name: DNS Admin\n",
      "Tech Organization: Google Inc.\n",
      "Tech Street: 1600 Amphitheatre Parkway, \n",
      "Tech City: Mountain View\n",
      "Tech State/Province: CA\n",
      "Tech Postal Code: 94043\n",
      "Tech Country: US\n",
      "Tech Phone: +1.6502530000\n",
      "Tech Phone Ext: \n",
      "Tech Fax: +1.6502530001\n",
      "Tech Fax Ext: \n",
      "Tech Email: dns-admin@google.com\n",
      "Name Server: ns3.google.com\n",
      "Name Server: ns1.google.com\n",
      "Name Server: ns2.google.com\n",
      "Name Server: ns4.google.com\n",
      "DNSSEC: unsigned\n",
      "URL of the ICANN WHOIS Data Problem Reporting System: http://wdprs.internic.net/\n",
      ">>> Last update of WHOIS database: 2018-01-29T08:39:08-0800 <<<\n",
      "\n",
      "The Data in MarkMonitor.com's WHOIS database is provided by MarkMonitor.com for\n",
      "information purposes, and to assist persons in obtaining information about or\n",
      "related to a domain name registration record.  MarkMonitor.com does not guarantee\n",
      "its accuracy.  By submitting a WHOIS query, you agree that you will use this Data\n",
      "only for lawful purposes and that, under no circumstances will you use this Data to:\n",
      " (1) allow, enable, or otherwise support the transmission of mass unsolicited,\n",
      "     commercial advertising or solicitations via e-mail (spam); or\n",
      " (2) enable high volume, automated, electronic processes that apply to\n",
      "     MarkMonitor.com (or its systems).\n",
      "MarkMonitor.com reserves the right to modify these terms at any time.\n",
      "By submitting this query, you agree to abide by this policy.\n",
      "\n",
      "MarkMonitor is the Global Leader in Online Brand Protection.\n",
      "\n",
      "MarkMonitor Domain Management(TM)\n",
      "MarkMonitor Brand Protection(TM)\n",
      "MarkMonitor AntiPiracy(TM)\n",
      "MarkMonitor AntiFraud(TM)\n",
      "Professional and Managed Services\n",
      "\n",
      "Visit MarkMonitor at http://www.markmonitor.com\n",
      "Contact us at +1.8007459229\n",
      "In Europe, at +44.02032062220\n",
      "\n",
      "For more information on Whois status codes, please visit\n",
      " https://www.icann.org/resources/pages/epp-status-codes-2014-06-16-en\n",
      "--\n",
      "\n"
     ]
    }
   ],
   "source": [
    "print(result.text)"
   ]
  },
  {
   "cell_type": "code",
   "execution_count": 17,
   "metadata": {},
   "outputs": [
    {
     "name": "stdout",
     "output_type": "stream",
     "text": [
      "<class 'whois.parser.WhoisCom'>\n",
      "True\n"
     ]
    }
   ],
   "source": [
    "import whois\n",
    "\n",
    "domain = 'google.com'\n",
    "result = whois.whois(domain)\n",
    "print(type(result))\n",
    "print(isinstance(result, whois.parser.WhoisCom))\n"
   ]
  },
  {
   "cell_type": "code",
   "execution_count": 19,
   "metadata": {},
   "outputs": [
    {
     "name": "stdout",
     "output_type": "stream",
     "text": [
      "<class 'datetime.datetime'>\n"
     ]
    }
   ],
   "source": [
    "import datetime\n",
    "print(type(datetime.datetime.now()))"
   ]
  },
  {
   "cell_type": "code",
   "execution_count": null,
   "metadata": {},
   "outputs": [],
   "source": []
  }
 ],
 "metadata": {
  "kernelspec": {
   "display_name": "Python 3",
   "language": "python",
   "name": "python3"
  },
  "language_info": {
   "codemirror_mode": {
    "name": "ipython",
    "version": 3
   },
   "file_extension": ".py",
   "mimetype": "text/x-python",
   "name": "python",
   "nbconvert_exporter": "python",
   "pygments_lexer": "ipython3",
   "version": "3.6.3"
  }
 },
 "nbformat": 4,
 "nbformat_minor": 2
}
